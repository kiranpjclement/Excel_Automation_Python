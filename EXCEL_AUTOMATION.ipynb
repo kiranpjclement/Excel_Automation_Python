{
 "cells": [
  {
   "cell_type": "code",
   "execution_count": 1,
   "id": "bcad6f22",
   "metadata": {},
   "outputs": [],
   "source": [
    "import openpyxl\n",
    "from openpyxl import Workbook,load_workbook\n",
    "from openpyxl.utils import get_column_letter\n",
    "from datetime import date \n",
    "currentday=(date.today().strftime(\"%Y%m%d\"))"
   ]
  },
  {
   "cell_type": "markdown",
   "id": "44db96a5",
   "metadata": {},
   "source": [
    "## Step.1 - LOAD XML DATA IN OPENPYXL and Archive process"
   ]
  },
  {
   "cell_type": "markdown",
   "id": "7716a5c8",
   "metadata": {},
   "source": [
    "##### Step1.1 Loading required xl data"
   ]
  },
  {
   "cell_type": "code",
   "execution_count": 2,
   "id": "16ee00db",
   "metadata": {},
   "outputs": [],
   "source": [
    "cs = load_workbook('Checking_Schedule.xlsx')  #loading cs data \n",
    "ws_cs=cs.active\n",
    "\n",
    "tevon = load_workbook('TEVON_DOWNLOAD.xlsx')  #loading tevon data\n",
    "ws_tevon= tevon.active\n",
    "\n",
    "cs_backup = load_workbook('Checking_Schedule_backup.xlsx')  #Loading archive data for synchronization\n",
    "ws_cs_backup= cs_backup.active\n",
    "\n",
    "pr_f0001 = load_workbook('F0001.xlsx')  #loading tevon data\n",
    "ws_f0001= pr_f0001.active\n",
    "\n",
    "pr_f0002 = load_workbook('F0002.xlsx')  #loading tevon data\n",
    "ws_f0002= pr_f0002.active\n"
   ]
  },
  {
   "cell_type": "markdown",
   "id": "b91dc1a5",
   "metadata": {},
   "source": [
    "##### Step1.2 Archiving a copy "
   ]
  },
  {
   "cell_type": "code",
   "execution_count": 3,
   "id": "03d6bbf7",
   "metadata": {},
   "outputs": [],
   "source": [
    "cs.save('Checking_Schedule_{}.xlsx'.format(currentday))  #archiving the copy"
   ]
  },
  {
   "cell_type": "markdown",
   "id": "0b1231a9",
   "metadata": {},
   "source": [
    "## Step .2 DEFINE PARAMTERS"
   ]
  },
  {
   "cell_type": "markdown",
   "id": "51237de2",
   "metadata": {},
   "source": [
    "##### 2.1 Parameters define the row and col values"
   ]
  },
  {
   "cell_type": "code",
   "execution_count": 4,
   "id": "6c4c3357",
   "metadata": {},
   "outputs": [],
   "source": [
    "\n",
    "row_tevon = ws_tevon.max_row #max row in tevon\n",
    "col_tevon = ws_tevon.max_column #max col in cs\n",
    "\n",
    "row_cs = ws_cs.max_row  #max row in cs\n",
    "row_cs_bu = ws_cs_backup.max_row \n",
    "col_cs = ws_cs.max_column #max col in cs\n",
    "\n",
    "ls_tev=[2,3,4,5,6] # list of columns need to copy from tevon\n",
    "ls_cs=[1,2,3,4,9]   # list of columns need to copy from cs\n",
    "\n",
    "col_partnumber_cs=2 # columns with the part numbers in checking schedule\n",
    "col_partnumber_cs_bu=2 # columns with the part numbers in checking schedule_backup\n",
    "\n",
    "pr_f001_col =2 #column in which the  pr codes are present IN #F0001 excel file\n",
    "pr_f002_col =2 #column in which the  pr codes are present IN #F0002 excel file\n",
    "\n",
    "row_f0001 = ws_f0001.max_row #max row in f0001 excel\n",
    "row_f0002 = ws_f0001.max_row #max row in f0002 excel\n",
    "\n",
    "col_pr=14 #column in CS with pr code present\n",
    "col_pr_comment=13 #column in CS with pr code comment\n",
    "\n",
    "r_status = 5 # row with part check is  relevent or not, NA/N/Y,comment present\n"
   ]
  },
  {
   "cell_type": "markdown",
   "id": "24c73927",
   "metadata": {},
   "source": [
    "##### 2.2 PR code comments"
   ]
  },
  {
   "cell_type": "code",
   "execution_count": 5,
   "id": "5992f98a",
   "metadata": {},
   "outputs": [],
   "source": [
    "comment1 = 'CODE PRESENT IN 01 FILTER'\n",
    "comment2 = 'CODE PRESENT IN 02 FILTER' \n",
    "comment3 ='CODE NOT PRESENT IN 01 FILTER ({})'\n",
    "comment4 ='CODE NOT PRESENT IN 01 FILTER ({})'\n",
    "comment5 ='CODE NOT PRESENT IN 01/02 FILTER ({})'\n",
    "comment6='CODE NOT PRESENT IN 01 FILTER ({},{})'\n",
    "comment7='CODE NOT PRESENT IN 02 FILTER ({},{})'"
   ]
  },
  {
   "cell_type": "markdown",
   "id": "fd809b23",
   "metadata": {},
   "source": [
    "## Step.3 - COPY DATA FROM TEVON TO CHECKING SCHEDULE"
   ]
  },
  {
   "cell_type": "code",
   "execution_count": 6,
   "id": "01088f5c",
   "metadata": {},
   "outputs": [],
   "source": [
    "#copy to first section from tevon to CS\n",
    "for r in range (1, row_tevon + 1):\n",
    "    for c in range (2,6):\n",
    "        ws_cs.cell(row=r,column=c).value = ws_tevon.cell(row=r,column=c).value \n",
    "               \n",
    "#copy the second section from tevon  to CS\n",
    "for r in range (1, row_tevon + 1):\n",
    "    for c_tev,c_cs in zip(ls_tev,ls_cs):\n",
    "        ws_cs.cell(row=r,column=c_cs).value = ws_tevon.cell(row=r,column=c_tev).value"
   ]
  },
  {
   "cell_type": "code",
   "execution_count": 6,
   "id": "311a6bf2",
   "metadata": {},
   "outputs": [],
   "source": [
    "def copy_data(start_row,last_row)\n",
    "    for r in range (start_row, last_row + 1):\n",
    "        for c in list_col:\n",
    "            ws_cs.cell(row=r,column=c).value = ws_tevon.cell(row=r,column=c).value \n",
    "# input are as folows\n",
    "# 1.start row and end row\n",
    "# 3.list of columns to copy in list format"
   ]
  },
  {
   "cell_type": "code",
   "execution_count": 7,
   "id": "643b5120",
   "metadata": {},
   "outputs": [],
   "source": [
    "cs.save('CS_after_Tevon_copy_{}.xlsx'.format(currentday))  #SAVING  a copy after tevon copy"
   ]
  },
  {
   "cell_type": "markdown",
   "id": "c34025ed",
   "metadata": {},
   "source": [
    "## Step.4 REMOVE SPACE FROM PART NUMBERS"
   ]
  },
  {
   "cell_type": "code",
   "execution_count": 8,
   "id": "f695ffd3",
   "metadata": {},
   "outputs": [],
   "source": [
    "def remove_space(work_sheet,first_row,total_rows,col_to_change):\n",
    "    for r in range (first_row, total_rows + 1):\n",
    "            val=(str(work_sheet.cell(row=r,column=col_to_change).value)).replace(\" \",\"\") #str command converts if the value is an int\n",
    "            work_sheet.cell(row=r,column=col_to_change).value =val  #change this to int from float on original cs\n"
   ]
  },
  {
   "cell_type": "code",
   "execution_count": 27,
   "id": "f4023908",
   "metadata": {
    "collapsed": true
   },
   "outputs": [
    {
     "ename": "AttributeError",
     "evalue": "'NoneType' object has no attribute 'cell'",
     "output_type": "error",
     "traceback": [
      "\u001b[1;31m---------------------------------------------------------------------------\u001b[0m",
      "\u001b[1;31mAttributeError\u001b[0m                            Traceback (most recent call last)",
      "\u001b[1;32m<ipython-input-27-d269b02cb2b4>\u001b[0m in \u001b[0;36m<module>\u001b[1;34m\u001b[0m\n\u001b[0;32m      4\u001b[0m \u001b[0mcol_to_change\u001b[0m\u001b[1;33m=\u001b[0m\u001b[0mcol_partnumber_cs\u001b[0m\u001b[1;33m\u001b[0m\u001b[1;33m\u001b[0m\u001b[0m\n\u001b[0;32m      5\u001b[0m \u001b[1;33m\u001b[0m\u001b[0m\n\u001b[1;32m----> 6\u001b[1;33m \u001b[0mwork_sheet\u001b[0m\u001b[1;33m=\u001b[0m\u001b[0mremove_space\u001b[0m\u001b[1;33m(\u001b[0m\u001b[0mwork_sheet\u001b[0m\u001b[1;33m,\u001b[0m\u001b[0mfirst_row\u001b[0m\u001b[1;33m,\u001b[0m\u001b[0mtotal_rows\u001b[0m\u001b[1;33m,\u001b[0m\u001b[0mcol_to_change\u001b[0m\u001b[1;33m)\u001b[0m\u001b[1;33m\u001b[0m\u001b[1;33m\u001b[0m\u001b[0m\n\u001b[0m\u001b[0;32m      7\u001b[0m \u001b[1;33m\u001b[0m\u001b[0m\n\u001b[0;32m      8\u001b[0m \u001b[0mws_cs\u001b[0m\u001b[1;33m=\u001b[0m\u001b[0mwork_sheet\u001b[0m\u001b[1;33m\u001b[0m\u001b[1;33m\u001b[0m\u001b[0m\n",
      "\u001b[1;32m<ipython-input-25-24301c065d15>\u001b[0m in \u001b[0;36mremove_space\u001b[1;34m(work_sheet, first_row, total_rows, col_to_change)\u001b[0m\n\u001b[0;32m      1\u001b[0m \u001b[1;32mdef\u001b[0m \u001b[0mremove_space\u001b[0m\u001b[1;33m(\u001b[0m\u001b[0mwork_sheet\u001b[0m\u001b[1;33m,\u001b[0m\u001b[0mfirst_row\u001b[0m\u001b[1;33m,\u001b[0m\u001b[0mtotal_rows\u001b[0m\u001b[1;33m,\u001b[0m\u001b[0mcol_to_change\u001b[0m\u001b[1;33m)\u001b[0m\u001b[1;33m:\u001b[0m\u001b[1;33m\u001b[0m\u001b[1;33m\u001b[0m\u001b[0m\n\u001b[0;32m      2\u001b[0m     \u001b[1;32mfor\u001b[0m \u001b[0mr\u001b[0m \u001b[1;32min\u001b[0m \u001b[0mrange\u001b[0m \u001b[1;33m(\u001b[0m\u001b[0mfirst_row\u001b[0m\u001b[1;33m,\u001b[0m \u001b[0mtotal_rows\u001b[0m \u001b[1;33m+\u001b[0m \u001b[1;36m1\u001b[0m\u001b[1;33m)\u001b[0m\u001b[1;33m:\u001b[0m\u001b[1;33m\u001b[0m\u001b[1;33m\u001b[0m\u001b[0m\n\u001b[1;32m----> 3\u001b[1;33m             \u001b[0mval\u001b[0m\u001b[1;33m=\u001b[0m\u001b[1;33m(\u001b[0m\u001b[0mstr\u001b[0m\u001b[1;33m(\u001b[0m\u001b[0mwork_sheet\u001b[0m\u001b[1;33m.\u001b[0m\u001b[0mcell\u001b[0m\u001b[1;33m(\u001b[0m\u001b[0mrow\u001b[0m\u001b[1;33m=\u001b[0m\u001b[0mr\u001b[0m\u001b[1;33m,\u001b[0m\u001b[0mcolumn\u001b[0m\u001b[1;33m=\u001b[0m\u001b[0mcol_to_change\u001b[0m\u001b[1;33m)\u001b[0m\u001b[1;33m.\u001b[0m\u001b[0mvalue\u001b[0m\u001b[1;33m)\u001b[0m\u001b[1;33m)\u001b[0m\u001b[1;33m.\u001b[0m\u001b[0mreplace\u001b[0m\u001b[1;33m(\u001b[0m\u001b[1;34m\" \"\u001b[0m\u001b[1;33m,\u001b[0m\u001b[1;34m\"\"\u001b[0m\u001b[1;33m)\u001b[0m \u001b[1;31m#str command converts if the value is an int\u001b[0m\u001b[1;33m\u001b[0m\u001b[1;33m\u001b[0m\u001b[0m\n\u001b[0m\u001b[0;32m      4\u001b[0m             \u001b[0mwork_sheet\u001b[0m\u001b[1;33m.\u001b[0m\u001b[0mcell\u001b[0m\u001b[1;33m(\u001b[0m\u001b[0mrow\u001b[0m\u001b[1;33m=\u001b[0m\u001b[0mr\u001b[0m\u001b[1;33m,\u001b[0m\u001b[0mcolumn\u001b[0m\u001b[1;33m=\u001b[0m\u001b[0mcol_to_change\u001b[0m\u001b[1;33m)\u001b[0m\u001b[1;33m.\u001b[0m\u001b[0mvalue\u001b[0m \u001b[1;33m=\u001b[0m\u001b[0mval\u001b[0m  \u001b[1;31m#change this to int from float on original cs\u001b[0m\u001b[1;33m\u001b[0m\u001b[1;33m\u001b[0m\u001b[0m\n",
      "\u001b[1;31mAttributeError\u001b[0m: 'NoneType' object has no attribute 'cell'"
     ]
    }
   ],
   "source": [
    "work_sheet =ws_cs\n",
    "first_row =2\n",
    "total_rows =row_cs\n",
    "col_to_change=col_partnumber_cs\n",
    "\n",
    "work_sheet=remove_space(work_sheet,first_row,total_rows,col_to_change)\n",
    "\n",
    "ws_cs=work_sheet"
   ]
  },
  {
   "cell_type": "code",
   "execution_count": 28,
   "id": "8ff23212",
   "metadata": {},
   "outputs": [],
   "source": [
    "cs.save('CS_space_removed.xlsx'.format(currentday))  #SAVING  a copy after space removed"
   ]
  },
  {
   "cell_type": "code",
   "execution_count": 11,
   "id": "7c209081",
   "metadata": {},
   "outputs": [],
   "source": [
    "# for r in range (2, row_cs + 1):\n",
    "#         val=(str(ws_cs.cell(row=r,column=col_partnumber_cs).value)).replace(\" \",\"\") #str command converts if the value is an int\n",
    "#         ws_cs.cell(row=r,column=col_partnumber_cs).value =val  #change this to int from float on original cs"
   ]
  },
  {
   "cell_type": "markdown",
   "id": "0cf0c58e",
   "metadata": {},
   "source": [
    "## Step.5  COPY THE BACKUP TO THE NEW CS LOOKUP"
   ]
  },
  {
   "cell_type": "code",
   "execution_count": 13,
   "id": "ea51308e",
   "metadata": {},
   "outputs": [],
   "source": [
    "cs_copy=[3,4,5,6,7]  #coluims where need to copy to data from cs_bakcup\n",
    "cs_backup_copy=[8,9,10,11,12] # data colums we need to copy from backup to new cs\n",
    "\n",
    "for r_cs in range(2,row_cs + 1):\n",
    "    for r_cs_bu in range(2,row_cs_bu + 1):\n",
    "        if ws_cs.cell(row=r_cs,column=col_partnumber_cs).value == ws_cs_backup.cell(row=r_cs_bu,column=col_partnumber_cs_bu).value :\n",
    "            for col1,col2 in zip(cs_copy,cs_backup_copy):\n",
    "                ws_cs.cell(row=r_cs,column=col1).value = ws_cs_backup.cell(row=r_cs_bu,column=col2).value"
   ]
  },
  {
   "cell_type": "code",
   "execution_count": 14,
   "id": "c4b236c1",
   "metadata": {},
   "outputs": [],
   "source": [
    "cs.save('CS_after_sync_{}.xlsx'.format(currentday))  #SAVING  a copy after Sync"
   ]
  },
  {
   "cell_type": "markdown",
   "id": "5f4d90b9",
   "metadata": {},
   "source": [
    "## Step.6  Partial checkup"
   ]
  },
  {
   "cell_type": "markdown",
   "id": "a9342f97",
   "metadata": {},
   "source": [
    "#####  6.1 Identify the row numbers of newly added parts in a list format"
   ]
  },
  {
   "cell_type": "code",
   "execution_count": 15,
   "id": "fc21020c",
   "metadata": {},
   "outputs": [],
   "source": [
    "new_added_part=[] # list to store the newly added part's row numbers\n",
    "for r_pr_comm in range(1,row_cs+1):\n",
    "    if ws_cs.cell(row=r_pr_comm,column=r_status).value== None:\n",
    "        new_added_part.append(r_pr_comm)"
   ]
  },
  {
   "cell_type": "markdown",
   "id": "650c9b89",
   "metadata": {},
   "source": [
    "###### 6.2 FILL COMMON PART COMMENT IF PR CODE NOT PRESENT"
   ]
  },
  {
   "cell_type": "code",
   "execution_count": 16,
   "id": "6e649ea1",
   "metadata": {},
   "outputs": [],
   "source": [
    "for r_col_partial in new_added_part:\n",
    "    pr=ws_cs.cell(row=r_col_partial,column=col_pr).value\n",
    "    if pr == None:\n",
    "        ws_cs.cell(row=r_col_partial ,column=col_pr_comment).value = 'PR CODE NOT PRESENT COMMON PART'"
   ]
  },
  {
   "cell_type": "code",
   "execution_count": 17,
   "id": "f211b097",
   "metadata": {},
   "outputs": [],
   "source": [
    "cs.save('Checking_Schedule.xlsx')  #SAVING  final excel"
   ]
  },
  {
   "cell_type": "markdown",
   "id": "36caa2c1",
   "metadata": {},
   "source": [
    "##### 6.3 TO CREATE THE LIST OF PR CODES IN F0001 and F0002"
   ]
  },
  {
   "cell_type": "code",
   "execution_count": 18,
   "id": "95072e05",
   "metadata": {
    "scrolled": false
   },
   "outputs": [],
   "source": [
    "# TO CREATE THE LIST OF PR CODES IN F0001\n",
    "LOL=['']\n",
    "for r_f0001 in range(1,row_f0001+1):   #index all the VALUES IN 8TH COLUMN ie.LOL\n",
    "        LOL.append(ws_f0001.cell(row=r_f0001,column=pr_f001_col).value)\n",
    "\n",
    "# TO CREATE THE LIST OF PR CODES IN F0002\n",
    "LOR=['']\n",
    "for r_f0002 in range(1,row_f0002+1):   #index all the VALUES IN 8TH COLUMN ie.LOL\n",
    "        LOR.append(ws_f0002.cell(row=r_f0002,column=pr_f002_col).value)"
   ]
  },
  {
   "cell_type": "markdown",
   "id": "189fda61",
   "metadata": {},
   "source": [
    "###### 6.4   RUN BELOW CODE TO GET LIST WITH EMPTY PR_COMMENT TO OMIT THE ROWs  FILLED WITH comment \"PR CODE NOTPRESENT COMMON PART\""
   ]
  },
  {
   "cell_type": "code",
   "execution_count": 19,
   "id": "1fc7e433",
   "metadata": {},
   "outputs": [],
   "source": [
    "row_no_prcomment=[] # list to store the newly added part's row numbers\n",
    "for r_pr_comm in range(1,row_cs+1):\n",
    "    if ws_cs.cell(row=r_pr_comm,column=col_pr_comment).value== None:\n",
    "        row_no_prcomment.append(r_pr_comm)"
   ]
  },
  {
   "cell_type": "markdown",
   "id": "f7096f41",
   "metadata": {},
   "source": [
    "###### 6.5 START TO ADDRESS THE REMAINING ROWS WITH PR CODES"
   ]
  },
  {
   "cell_type": "code",
   "execution_count": 20,
   "id": "c3e0128c",
   "metadata": {
    "scrolled": true
   },
   "outputs": [],
   "source": [
    "for r_col_partial in row_no_prcomment:\n",
    "    pr=ws_cs.cell(row=r_col_partial,column=col_pr).value #index all the newly added rows prcode value\n",
    "    if '/' not in pr: #handling  the pr without 'OR' conditiion in it\n",
    "        if 'L0R' in pr: #HANDLE PR CODE WITH l0R\n",
    "            if all(x in LOR for x in pr.split('+')) :\n",
    "                ws_cs.cell(row=r_col_partial ,column=col_pr_comment).value = comment2\n",
    "                #entering comment on pr comment cells\n",
    "            else:\n",
    "                for x in pr.split('+'):\n",
    "                    if x not in LOR:\n",
    "                        missingLOR=x\n",
    "                        ws_cs.cell(row=r_col_partial ,column=col_pr_comment).value = comment4.format(missingLOR)\n",
    "                        \n",
    "            \n",
    "        elif 'L0L' in pr: # HANDLE PR CODE WITH l0l\n",
    "            if all(x in LOL for x in pr.split('+')) :\n",
    "                ws_cs.cell(row=r_col_partial ,column=col_pr_comment).value = comment1 \n",
    "                #entering comment on pr comment cells\n",
    "                \n",
    "            else:\n",
    "                for x in pr.split('+'):\n",
    "                    if x not in LOL:\n",
    "                        missingLOL=x\n",
    "                        ws_cs.cell(row=r_col_partial ,column=col_pr_comment).value = comment3.format(missingLOL)\n",
    "        # HANDLE REMAINING PR CODES WITHOUT LOR , LOR and '/'   \n",
    "        elif all(x in LOL for x in pr.split('+')) :\n",
    "            ws_cs.cell(row=r_col_partial ,column=col_pr_comment).value = comment1 \n",
    "            #entering comment on pr comment cells\n",
    "        elif all(x in LOR for x in pr.split('+')) :\n",
    "            ws_cs.cell(row=r_col_partial ,column=col_pr_comment).value = comment2\n",
    "            #entering comment on pr comment cells\n",
    "        else:\n",
    "            for x in pr.split('+'):\n",
    "                if x not in LOL:\n",
    "                    missingLOL=x\n",
    "                    ws_cs.cell(row=r_col_partial ,column=col_pr_comment).value = comment5.format(missingLOL)\n",
    "                    break\n",
    "   #Handle pr code with '/' OR        \n",
    "    else:\n",
    "        #print(pr, 'with/')\n",
    "        listofslashgroup=[]  #list to store the group with slash(OR ,'/'') ,ie  A1/A2/D5/C8\n",
    "        listwithoutslash=[]  #list to store the group without slash,ie indivitual seperated with + ,A1+A2+B5\n",
    "        slashinLOL=0\n",
    "        slashinLOR=0\n",
    "        pr_with_or=pr.split('+')\n",
    "        for v in pr_with_or:\n",
    "            if '/' in v:\n",
    "                listofslashgroup.append(v) # added all the pr codes with OR to one list\n",
    "            else:\n",
    "                listwithoutslash.append(v) # added all the pr codes without OR to one list\n",
    "# first handle all the +pr codes in the group of OR\n",
    "        allplusinlol=False\n",
    "        allplusinlor=False\n",
    "        slashinLOL=False\n",
    "        slashinLOR=False            \n",
    "        if all(x in LOL for x in listwithoutslash) :\n",
    "            allplusinlol=True\n",
    "        else:#below to store a missing value from +group\n",
    "            for x in listwithoutslash:\n",
    "                if x not in LOL:\n",
    "                    LOLmissing=x\n",
    "            \n",
    "        if all(x in LOR for x in listwithoutslash) :\n",
    "            allplusinlor=True\n",
    "        else:\n",
    "            for x in listwithoutslash:\n",
    "                if x not in LOR:\n",
    "                    LORmissing=x                          \n",
    "#below else codes is to set a flag if all the '/' groups are meeting or not the LOL and LOR\n",
    "        for v1 in listofslashgroup: \n",
    "            if any(x in LOL for x in v1.split('/')):\n",
    "                slashinLOL=True\n",
    "                continue\n",
    "            else:\n",
    "                LOLmissingwithinslash = v1  #store one value from the slash as an input to the comment\n",
    "\n",
    "        for v2 in listofslashgroup: \n",
    "            if any(x in LOR for x in v2.split('/')):\n",
    "                slashinLOR=True\n",
    "                continue\n",
    "            else:\n",
    "                LORmissingwithinslash = v2  #store one value from the slash as an input to the comment \n",
    "                \n",
    "# checking the flag to decide the outcome\n",
    "\n",
    "        if  allplusinlol and slashinLOL:\n",
    "            ws_cs.cell(row=r_col_partial ,column=col_pr_comment).value = comment1  \n",
    "        elif  allplusinlor and slashinLOR:\n",
    "            ws_cs.cell(row=r_col_partial ,column=col_pr_comment).value = comment2\n",
    "        elif  allplusinlol == False and slashinLOL:\n",
    "             ws_cs.cell(row=r_col_partial ,column=col_pr_comment).value = comment3.format(LOLmissing)\n",
    "        elif  allplusinlol == True and slashinLOL==False:\n",
    "             ws_cs.cell(row=r_col_partial ,column=col_pr_comment).value = comment3.format(LOLmissingwithinslash)\n",
    "        elif  allplusinlor == False and slashinLOR:\n",
    "             ws_cs.cell(row=r_col_partial ,column=col_pr_comment).value = comment4.format(LORmissing)\n",
    "        elif  allplusinlor == True and slashinLOL==False:\n",
    "             ws_cs.cell(row=r_col_partial ,column=col_pr_comment).value = comment3.format(LOLmissingwithinslash)\n",
    "        elif  allplusinlol == False and slashinLOL==False:\n",
    "             ws_cs.cell(row=r_col_partial ,column=col_pr_comment).value =comment6.format(LOLmissing,LOLmissingwithinslash)\n",
    "        elif  allplusinlor == False and slashinLOR==False:\n",
    "             ws_cs.cell(row=r_col_partial ,column=col_pr_comment).value = comment7.format(LORmissing,LORmissingwithinslash)\n",
    "            "
   ]
  },
  {
   "cell_type": "markdown",
   "id": "37fc721a",
   "metadata": {},
   "source": [
    "## Step.7  Partial checkup"
   ]
  },
  {
   "cell_type": "code",
   "execution_count": 21,
   "id": "c96bdf9f",
   "metadata": {},
   "outputs": [],
   "source": [
    "cs.save('Checking_Schedule_final.xlsx')  #SAVING  final excel"
   ]
  },
  {
   "cell_type": "code",
   "execution_count": null,
   "id": "db15e147",
   "metadata": {},
   "outputs": [],
   "source": []
  }
 ],
 "metadata": {
  "kernelspec": {
   "display_name": "Python 3",
   "language": "python",
   "name": "python3"
  },
  "language_info": {
   "codemirror_mode": {
    "name": "ipython",
    "version": 3
   },
   "file_extension": ".py",
   "mimetype": "text/x-python",
   "name": "python",
   "nbconvert_exporter": "python",
   "pygments_lexer": "ipython3",
   "version": "3.8.8"
  }
 },
 "nbformat": 4,
 "nbformat_minor": 5
}
